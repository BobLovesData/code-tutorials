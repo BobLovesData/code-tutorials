{
 "cells": [
  {
   "cell_type": "markdown",
   "metadata": {},
   "source": [
    "<a href=\"https://massstreetuniversity.com/\"><img src=\"https://tutorials.massstreetuniversity.com/images/logo.png\" alt=\"School Logo\"></a>"
   ]
  },
  {
   "cell_type": "markdown",
   "metadata": {},
   "source": [
    "<h1>The Ultimate Data Science With Python How-To Reference Guide</h1>\n",
    "<strong>The definiative cookbook on doing data science with Python.</strong><br><br>\n",
    "\n",
    "<strong>Lead Author: Chris Harvey</strong><br>\n",
    "<strong>Co-Author: Bob Wakefield</strong>"
   ]
  },
  {
   "cell_type": "markdown",
   "metadata": {},
   "source": [
    "<h1>Preface<h1>\n",
    "<table width=\"100%\" border=\"1\" align=\"center\">\n",
    "  <tbody>\n",
    "    <tr>\n",
    "        <td valign=\"top\">I. <a href=\"preface/iv-how-to-report-an-issue.html\">How To Report An Issue</a></td>\n",
    "        <td valign=\"top\">II. <a href=\"preface/v-student-lounge.html\">Join The MSU Community On Discord</a></td>\n",
    "    </tr>\n",
    "   </tbody>\n",
    "</table>"
   ]
  },
  {
   "cell_type": "markdown",
   "metadata": {},
   "source": [
    "<h1>Getting Started With Machine Learning In Python<h1><br>\n",
    "<table width=\"100%\" border=\"1\" align=\"center\">\n",
    "  <tbody>\n",
    "    <tr>\n",
    "      <td valign=\"top\">• <a href=\"\">How To Create Virtual Environments With Python</a></td>\n",
    "      <td valign=\"top\">• <a href=\"\">How To Install Basic Python Data Science Packages</a></td>\n",
    "    </tr>\n",
    "    </tbody>\n",
    "</table>"
   ]
  },
  {
   "cell_type": "markdown",
   "metadata": {},
   "source": [
    "<h1>Working With Files<h1><br>\n",
    "<table width=\"100%\" border=\"1\" align=\"center\">\n",
    "  <tbody>\n",
    "    <tr>\n",
    "      <td valign=\"top\">• <a href=\"\">How To Download Files With HTTP and FTP</a></td>\n",
    "      <td valign=\"top\">• <a href=\"\">How To Download Zip Files</a></td>\n",
    "    </tr>\n",
    "    <tr>\n",
    "      <td valign=\"top\">• <a href=\"\">How To Loop Over Files In A Directory</a></td>\n",
    "      <td valign=\"top\">• <a href=\"\">How To Download A Zip File Over HTTP</a></td>\n",
    "    </tr>\n",
    "\t <tr>\n",
    "      <td valign=\"top\">• <a href=\"\">How To Convert Comma Delimited Files To Pipe Delimited</a></td>\n",
    "      <td valign=\"top\">• <a href=\"\">How To Move A File</a></td>\n",
    "    </tr>\n",
    "\t <tr>\n",
    "      <td valign=\"top\">• <a href=\"\">How To Work With JSON Files</a></td>\n",
    "      <td valign=\"top\">• <a href=\"\">How To Save Objects With Pickle</a></td>\n",
    "    </tr>\n",
    "</table>"
   ]
  },
  {
   "cell_type": "markdown",
   "metadata": {},
   "source": [
    "<h1>Solutions To Real World Problems<h1><br>\n",
    "<table width=\"100%\" border=\"1\" align=\"center\">\n",
    "  <tbody>\n",
    "    <tr>\n",
    "      <td valign=\"top\" align=\"left\">45. <a href=\"solutions/list-all-tables.html\">Listing All Tables In A SQL Server Database</a></td>\n",
    "      <td valign=\"top\" align=\"left\">46. <a href=\"solutions/list-all-columns.html\">Listing All Columns In A SQL Server Database</a></td>\n",
    "    </tr>\n",
    "    <tr>\n",
    "      <td valign=\"top\" align=\"left\">47. <a href=\"solutions/pull-random-records.html\">Pull Records From A Table At Random</a></td>\n",
    "      <td valign=\"top\" align=\"left\">48. <a href=\"solutions/with-nolock-alternative.html\">A Better Alternative To WITH (NOLOCK)</a></td>\n",
    "    </tr>\n",
    "    <tr>\n",
    "      <td valign=\"top\" align=\"left\">49. <a href=\"solutions/boost-performance.html\">Boost Performance When Calling A Stored Proc From SSIS</a></td>\n",
    "      <td valign=\"top\" align=\"left\">50. <a href=\"solutions/ablation-testing.html\">Setting Up Queries For Ablation Testing</a></td>\n",
    "    </tr>\n",
    "    <tr>\n",
    "      <td valign=\"top\" align=\"left\">51. <a href=\"solutions/default-column-values.html\">Reduce Code And Save Time With Default Column Values</a></td>\n",
    "      <td valign=\"top\" align=\"left\">52. <a href=\"solutions/removing-dups.html\">Finding Duplicate Records In A Table</a></td>\n",
    "    </tr>\n",
    "    <tr>\n",
    "      <td valign=\"top\" align=\"left\">53. <a href=\"solutions/clustered-index.html\">Why You Cannot Have More Than One Clustered Index On A Table</a></td>\n",
    "      <td valign=\"top\" align=\"left\">54. <a href=\"solutions/convert-dates.html\">Converting Dates To YYYYMMDD</a></td>\n",
    "    </tr>\n",
    "    <tr>\n",
    "      <td valign=\"top\" align=\"left\">55. <a href=\"solutions/notification-emails.html\">Sending Notification Emails With T-SQL Without Using Hardcoded Email Addresses</a></td>\n",
    "      <td valign=\"top\" align=\"left\">56. <a href=\"solutions/troubleshoot-queries.html\">Troubleshooting Long Running Queries</a></td>\n",
    "    </tr>\n",
    "    <tr>\n",
    "      <td valign=\"top\" align=\"left\">57. <a href=\"solutions/load-large-files.html\">Loading Large CSVs Into Data Warehouse Staging Tables</a></td>\n",
    "      <td valign=\"top\" align=\"left\">58. <a href=\"solutions/only-use-for-cursors.html\">The Only Bloody Good Reason To Use Cursors (AKA Moving Large Amounts Of Data Between Tables)</a></td>\n",
    "    </tr>\n",
    "    <tr>\n",
    "      <td valign=\"top\" align=\"left\">59. <a href=\"solutions/load-typeII-dimension.html\">Loading A Type II Slowly Changing Dimension With SQL Merge</a></td>\n",
    "      <td valign=\"top\" align=\"left\">60. <a href=\"solutions/numeric-parameters.html\">A Clearer Explanation Of The Parameters Of The Numeric Data Type</a></td>\n",
    "    </tr>\n",
    "    <tr>\n",
    "      <td valign=\"top\" align=\"left\">61. <a href=\"solutions/cant-join-on-null.html\">Why You Cannot Join On Null Values</a></td>\n",
    "      <td valign=\"top\" align=\"left\">62. <a href=\"solutions/where-clause-deep-dive.html\">A Deep Dive On How The Where Clause Functions</a></td>\n",
    "    </tr>\n",
    "    <tr>\n",
    "      <td valign=\"top\" align=\"left\">63. <a href=\"solutions/hashbytes-for-string-comparison.html\">Using HASHBYTES() To Compare Character Strings</a></td>\n",
    "      <td valign=\"top\" align=\"left\">64. <a href=\"solutions/hashing-multiple-columns.html\">Using Pipe To Hash Multiple Columns For Matching</a></td>\n",
    "    </tr>\n",
    "    <tr>\n",
    "      <td valign=\"top\" align=\"left\">65. <a href=\"solutions/sql-style-guide.html\">Why People That Indent Code Drive Me Nuts (AKA A Recommended SQL Style Guide)</a></td>\n",
    "      <td valign=\"top\" align=\"left\">66. <a href=\"solutions/data-warehouse-standup.html\">How To Rapidly Stand Up A Data Warehouse From Scratch</a></td>\n",
    "    </tr>\n",
    "     <tr>\n",
    "      <td valign=\"top\" align=\"left\">67. <a href=\"solutions/how-to-pivot-an-unknown-number-of-columns.html\">How To Pivot Data With T-SQL When Columns Are Not Predefined</a></td>\n",
    "      <td valign=\"top\" align=\"left\">68. <a href=\"solutions/prepopulating-a-junk-dimension.html\">Prepopulating A Junk Dimension</a></td>\n",
    "    </tr>\n",
    "  </tbody>\n",
    "</table>"
   ]
  },
  {
   "cell_type": "markdown",
   "metadata": {},
   "source": [
    "Copyright © 2020, Mass Street Analytics, LLC. All Rights Reserved."
   ]
  }
 ],
 "metadata": {
  "kernelspec": {
   "display_name": "Python 3",
   "language": "python",
   "name": "python3"
  },
  "language_info": {
   "codemirror_mode": {
    "name": "ipython",
    "version": 3
   },
   "file_extension": ".py",
   "mimetype": "text/x-python",
   "name": "python",
   "nbconvert_exporter": "python",
   "pygments_lexer": "ipython3",
   "version": "3.8.3"
  }
 },
 "nbformat": 4,
 "nbformat_minor": 4
}
