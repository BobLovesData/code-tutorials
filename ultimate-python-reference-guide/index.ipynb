{
 "cells": [
  {
   "cell_type": "markdown",
   "metadata": {},
   "source": [
    "<a href=\"https://msds.massstreet.net/\"><img src=\"https://learn.massstreet.net/images/logo.png\" alt=\"School Logo\"></a>"
   ]
  },
  {
   "cell_type": "markdown",
   "metadata": {},
   "source": [
    "<h1>The Ultimate Python For Data Professionals How-To Reference Guide</h1>\n",
    "<strong>The premier quick reference for working with data in Python.</strong><br><br>\n",
    "\n",
    "<strong>Author: Bob Wakefield</strong><br>"
   ]
  },
  {
   "cell_type": "markdown",
   "metadata": {},
   "source": [
    "<h1>Getting Started<h1>\n",
    "<table width=\"100%\" border=\"1\" align=\"center\">\n",
    "  <tbody>\n",
    "    <tr>\n",
    "      <td valign=\"top\"><ul><li><a href=\"set-up/find-python-version.html\">How To Find Out Which Version Of Python You Have</a></li></ul></td>\n",
    "      <td valign=\"top\"><ul><li>How To Create Virtual Environments With Python</li></ul></td>\n",
    "    </tr>\n",
    "     <tr>\n",
    "      <td valign=\"top\"><ul><li>How To Install Basic Data Science Packages</li></ul></td>\n",
    "      <td valign=\"top\">&nbsp</td>\n",
    "    </tr>\n",
    "    </tbody>\n",
    "</table>"
   ]
  },
  {
   "cell_type": "markdown",
   "metadata": {},
   "source": [
    "<h1>Pandas</h1>\n",
    "<table width=\"100%\" border=\"1\" align=\"center\">\n",
    "  <tbody>\n",
    "    <tr>\n",
    "      <td valign=\"top\"><ul><li>How To Import Data From A CSV File Into A DataFrame</li></ul></td>\n",
    "      <td valign=\"top\"><ul><li>How To Import Data From A JSON File Into A DataFrame</li></ul></td>\n",
    "    </tr>\n",
    "     <tr>\n",
    "      <td valign=\"top\"><ul><li>How To Remove A DataFrame From Memory</li></ul></td>\n",
    "      <td valign=\"top\"><ul><li></li></ul></td>\n",
    "    </tr>\n",
    "    </tbody>\n",
    "</table>"
   ]
  },
  {
   "cell_type": "markdown",
   "metadata": {},
   "source": [
    "<h1>Working With Files</h1>\n",
    "<table width=\"100%\" border=\"1\" align=\"center\">\n",
    "  <tbody>\n",
    "    <tr>\n",
    "      <td valign=\"top\"><ul><li><a href=\"data-io/csv.html\">How To Load A CSV Into A Pandas DataFrame</a></li></ul></td>\n",
    "      <td valign=\"top\"><ul><li>How To Download Files With HTTP and FTP</li></ul></td>\n",
    "    </tr>\n",
    "     <tr>\n",
    "      <td valign=\"top\"><ul><li>How To Download Zip Files</li></ul></td>\n",
    "      <td valign=\"top\"><ul><li>How To Loop Over Files In A Directory</li></ul></td>\n",
    "    </tr>\n",
    "     <tr>\n",
    "      <td valign=\"top\"><ul><li>How To Download A Zip File Over HTTP</li></ul></td>\n",
    "      <td valign=\"top\"><ul><li>How To Move A File</li></ul></td>\n",
    "    </tr>\n",
    "     <tr>\n",
    "      <td valign=\"top\"><ul><li>How To Save Objects With Pickle</li></ul></td>\n",
    "      <td valign=\"top\">&nbsp;</td>\n",
    "    </tr>\n",
    "    </tbody>\n",
    "</table>"
   ]
  },
  {
   "cell_type": "markdown",
   "metadata": {},
   "source": [
    "Copyright © 2022, Mass Street Analytics, LLC. All Rights Reserved."
   ]
  }
 ],
 "metadata": {
  "kernelspec": {
   "display_name": "Python 3",
   "language": "python",
   "name": "python3"
  },
  "language_info": {
   "codemirror_mode": {
    "name": "ipython",
    "version": 3
   },
   "file_extension": ".py",
   "mimetype": "text/x-python",
   "name": "python",
   "nbconvert_exporter": "python",
   "pygments_lexer": "ipython3",
   "version": "3.8.3"
  }
 },
 "nbformat": 4,
 "nbformat_minor": 4
}
