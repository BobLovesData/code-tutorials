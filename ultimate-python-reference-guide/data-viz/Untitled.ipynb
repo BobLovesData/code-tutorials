{
 "cells": [
  {
   "cell_type": "code",
   "execution_count": 13,
   "metadata": {},
   "outputs": [],
   "source": [
    "import pyarrow as pq\n",
    "import pyodbc as db\n",
    "import pandas as pd\n",
    "import pyarrow.parquet as pp"
   ]
  },
  {
   "cell_type": "code",
   "execution_count": 6,
   "metadata": {},
   "outputs": [],
   "source": [
    "#Prep query\n",
    "sql = 'SELECT * FROM [DVDRental].[dbo].[rental]'\n",
    "#Set up the connection.\n",
    "connection_string = 'DSN=ETL;'\n",
    "conn = db.connect(connection_string)\n",
    "#Execute the query.\n",
    "result_set = pd.read_sql(sql, conn, index_col = 'rental_id')"
   ]
  },
  {
   "cell_type": "code",
   "execution_count": 10,
   "metadata": {},
   "outputs": [],
   "source": [
    "table = pq.Table.from_pandas(result_set)"
   ]
  },
  {
   "cell_type": "code",
   "execution_count": 14,
   "metadata": {},
   "outputs": [],
   "source": [
    "pp.write_table(table, 'example.parquet')"
   ]
  }
 ],
 "metadata": {
  "kernelspec": {
   "display_name": "Python 3",
   "language": "python",
   "name": "python3"
  },
  "language_info": {
   "codemirror_mode": {
    "name": "ipython",
    "version": 3
   },
   "file_extension": ".py",
   "mimetype": "text/x-python",
   "name": "python",
   "nbconvert_exporter": "python",
   "pygments_lexer": "ipython3",
   "version": "3.8.3"
  }
 },
 "nbformat": 4,
 "nbformat_minor": 4
}
