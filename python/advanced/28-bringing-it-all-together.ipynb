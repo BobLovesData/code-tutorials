{
 "cells": [
  {
   "cell_type": "markdown",
   "metadata": {},
   "source": [
    "<a href=\"https://massstreetuniversity.com/\"><img src=\"https://tutorials.massstreetuniversity.com/images/logo.png\" alt=\"School Logo\"></a><br><br><br>\n",
    "<a href=\"https://tutorials.massstreetuniversity.com/python/\">Tutorial Home</a> | <a href=\"https://tutorials.massstreetuniversity.com/python/advanced/27-error-handling.html\">Previous</a> | <a href=\"https://tutorials.massstreetuniversity.com/python/solutions/29-download-a-zip-file.html\">Next</a>"
   ]
  },
  {
   "cell_type": "markdown",
   "metadata": {},
   "source": [
    "<h1>Lesson 28. Bringing It All Together</h1>"
   ]
  },
  {
   "cell_type": "markdown",
   "metadata": {},
   "source": [
    "Here is an example of how some of the information you have learned can be put together to develop a solution to a real world ETL problem."
   ]
  },
  {
   "cell_type": "markdown",
   "metadata": {},
   "source": [
    "<h1>Examples</h1>"
   ]
  },
  {
   "cell_type": "markdown",
   "metadata": {},
   "source": [
    "<strong>Example #1: Absence Report Generation</strong>\n",
    "\n",
    "We have been given the task of downloading a zip file containing student performance information. We then are required to use that information to create a report of student absences rolled up by sex and age.\n",
    "\n",
    "We need to download the zip file, extract the one file we need, load it into a database, do the number crunching, and spit out an Excel file.\n",
    "\n",
    "For this example to work, you need to create some objects in SQL server. Open the SQL folder in the example directory and run “create stage table.sql” in SSMS."
   ]
  },
  {
   "cell_type": "code",
   "execution_count": null,
   "metadata": {},
   "outputs": [],
   "source": [
    "import os\n",
    "import sys\n",
    "import urllib\n",
    "import datetime\n",
    "import pandas as pd\n",
    "import pyodbc as db\n",
    "import zipfile as zf\n",
    "from zipfile import ZipFile\n",
    "\n",
    "\n",
    "if not 'ScriptFolder' in globals():\n",
    "    ScriptFolder = os.getcwd()\n",
    "    \n",
    "ExampleFolder = 'BringingItAllTogether\\\\'\n",
    "DataFolder = 'data\\\\'\n",
    "InFolder = 'In\\\\'\n",
    "OutFolder = 'Out\\\\'\n",
    "ArchiveFolder = 'Archive\\\\'\n",
    "DownloadZipFileName = 'student.zip'\n",
    "DownloadFileName = 'student-por.csv'\n",
    "DownloadFileNamePipe = 'student_performance.csv'\n",
    "DownloadTimeStamp = datetime.datetime.today().strftime('%Y%m')\n",
    "ArchiveZipFileName = 'student_performance_' + DownloadTimeStamp + '.zip'\n",
    "OutputFileName = 'absence_report.xlsx'\n",
    "\n",
    "\n",
    "SiteURL = 'https://archive.ics.uci.edu/ml/index.php'\n",
    "FileURL = 'https://archive.ics.uci.edu/ml/machine-learning-databases/00320/student.zip' #URL of File\n",
    "\n",
    "InFolderPathZip = os.path.join(ScriptFolder, DataFolder,  ExampleFolder, InFolder, DownloadZipFileName)\n",
    "InFolderPathSemiColon = os.path.join(ScriptFolder, DataFolder,  ExampleFolder, InFolder, DownloadFileName)\n",
    "InFolderPathPipe = os.path.join(ScriptFolder, DataFolder,  ExampleFolder, InFolder, DownloadFileNamePipe)\n",
    "InFolderDirectory =  os.path.join(ScriptFolder, DataFolder, ExampleFolder, InFolder)\n",
    "ArchivePath = os.path.join(ScriptFolder, DataFolder,  ExampleFolder, ArchiveFolder, ArchiveZipFileName)\n",
    "OutFolderPathPipe = os.path.join(ScriptFolder, DataFolder,  ExampleFolder, OutFolder, OutputFileName)\n",
    "\n",
    "print(\"Starting: Processing Data\")\n",
    "\n",
    "# verify that the  site is available and the internet connection is working\n",
    "try:\n",
    "    print(\"Validating status of site and internet connection\")\n",
    "    urllib.request.urlopen(SiteURL)\n",
    "except Exception as e:\n",
    "    print(e)\n",
    "\n",
    "# download the file\n",
    "try:\n",
    "    print(\"Downloading file to:\", InFolderDirectory)\n",
    "    urllib.request.urlretrieve(FileURL,InFolderPathZip)\n",
    "except Exception as e:\n",
    "    print(e)\n",
    "\n",
    "#Extract a single file from zip\n",
    "with ZipFile(InFolderPathZip, 'r') as zipObject:\n",
    "   listOfFileNames = zipObject.namelist()\n",
    "   for fileName in listOfFileNames:\n",
    "       if fileName == DownloadFileName:\n",
    "           zipObject.extract(fileName, InFolderDirectory)\n",
    "           print('All the python files are extracted')\n",
    "\n",
    "# delete zip file\n",
    "try:\n",
    "    print(\"Deleting file: {}\".format(DownloadZipFileName))\n",
    "    if os.path.isfile(InFolderPathZip):\n",
    "        os.remove(InFolderPathZip)\n",
    "except Exception as e:\n",
    "    print(e)\n",
    "\n",
    "# Read csv data into pandas and write | delimited txt file\n",
    "try:\n",
    "    print(\"Reading csv file: {}\".format(DownloadFileName))\n",
    "    df = pd.read_csv(InFolderPathSemiColon,index_col=False, sep=\";\")\n",
    "    print(\"Writing txt file to: {}\".format(InFolderDirectory))\n",
    "    df.to_csv(InFolderPathPipe, sep=\"|\",index=False)\n",
    "    print(\"Deleting csv file: {}\".format(DownloadFileName))\n",
    "    os.remove(InFolderPathSemiColon)\n",
    "except Exception as e:\n",
    "    print(e)\n",
    "\n",
    "#bulk load txt file to SQL Server\n",
    "try:\n",
    "    print(\"Connecting to SQL Server database\")\n",
    "    connection_string = 'DSN=ETL;'\n",
    "    conn = db.connect(connection_string)\n",
    "    print(\"Preparing database for update\")\n",
    "    csr = conn.cursor()\n",
    "    csr.execute(\"TRUNCATE TABLE uci.StudentPerformance\")\n",
    "    sql = \"BULK INSERT StudentPerformance FROM '\" + InFolderPathPipe + \"' WITH (FIELDTERMINATOR = '|', ROWTERMINATOR = '0x0a', FIRSTROW = 2)\"\n",
    "    print(\"Update database with {} file data.\".format(InFolderPathPipe))\n",
    "    csr.execute(sql)\n",
    "    print(\"Completing SQL Server update\")\n",
    "    conn.commit()\n",
    "    csr.close()\n",
    "    conn.close()\n",
    "except Exception as e:\n",
    "    print(e)\n",
    "\n",
    "# zip txt file to archive\n",
    "try:\n",
    "    print(\"Creating zip file for txt file archive\")\n",
    "    archive = zf.ZipFile(ArchivePath, \"w\")\n",
    "    os.chdir(InFolderDirectory)\n",
    "    archive.write(DownloadFileNamePipe)\n",
    "    archive.close()\n",
    "    os.chdir(ScriptFolder)\n",
    "    os.remove(InFolderPathPipe)\n",
    "except Exception as e:\n",
    "    print(e)\n",
    "    \n",
    "#alter the below for your file.\n",
    "try:\n",
    "    print(\"Connecting to SQL Server database\")\n",
    "    connection_string = 'DSN=ETL;'\n",
    "    conn = db.connect(connection_string)\n",
    "    csr = conn.cursor()\n",
    "    sql = 'SELECT sex AS SEX, age AS AGE, SUM(CAST(absences AS INT)) AS Absences '\n",
    "    sql = sql + 'FROM [ODS].[uci].[StudentPerformance] '\n",
    "    sql = sql + 'GROUP BY sex, age '\n",
    "    sql = sql + 'ORDER BY Absences'\n",
    "    df = pd.read_sql(sql,conn)\n",
    "    conn.commit()\n",
    "    csr.close()\n",
    "    conn.close()\n",
    "    print(\"Writing report.\")\n",
    "    df.to_excel(OutFolderPathPipe,index=False)\n",
    "except Exception as e:\n",
    "    print(e)"
   ]
  },
  {
   "cell_type": "markdown",
   "metadata": {},
   "source": [
    "Copyright © 2020, Mass Street Analytics, LLC. All Rights Reserved."
   ]
  }
 ],
 "metadata": {
  "kernelspec": {
   "display_name": "Python 3",
   "language": "python",
   "name": "python3"
  },
  "language_info": {
   "codemirror_mode": {
    "name": "ipython",
    "version": 3
   },
   "file_extension": ".py",
   "mimetype": "text/x-python",
   "name": "python",
   "nbconvert_exporter": "python",
   "pygments_lexer": "ipython3",
   "version": "3.8.3"
  }
 },
 "nbformat": 4,
 "nbformat_minor": 4
}
