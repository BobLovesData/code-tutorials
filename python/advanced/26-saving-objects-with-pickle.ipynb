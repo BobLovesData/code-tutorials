{
 "cells": [
  {
   "cell_type": "markdown",
   "metadata": {},
   "source": [
    "<a href=\"https://massstreetuniversity.com/\"><img src=\"https://tutorials.massstreetuniversity.com/images/logo.png\" alt=\"School Logo\"></a><br><br><br>\n",
    "<a href=\"https://tutorials.massstreetuniversity.com/python/\">Tutorial Home</a> | <a href=\"https://tutorials.massstreetuniversity.com/python/advanced/25-databases.html\">Previous</a> | <a href=\"https://tutorials.massstreetuniversity.com/python/advanced/27-error-handling.html\">Next</a>"
   ]
  },
  {
   "cell_type": "markdown",
   "metadata": {},
   "source": [
    "<h1>Lesson 26. Saving Objects With Pickle</h1>"
   ]
  },
  {
   "cell_type": "markdown",
   "metadata": {},
   "source": [
    "Pickle is a Python module that helps you save and load python objects to permanent storage like hard disks. When needed you can restore these files back to objects. You can also share these files with other people who can convert them back to python objects using Pickle's load() function. When we are working with data on Jupyter notebooks or any other IDE, all information is stored in RAM which is volatile. All your data is lost when you close the notebook's kernel or shut your computer down. So saving processed information to disk is indispensable. \n",
    "\n",
    "Pickle converts objects into a byte stream, a process called serialization, which is sequential binary form of objects. When you pickle an object into a binary file, it could be later converted back to a python object (deserialization). This process comes in handy when you are performing complex processing on python objects like dictionaries, Numpy or Pandas arrays. Pickle module is commonly used for saving trained machine learning models' weights which could be restored for making predictions without resorting to training the model again and again.\n",
    "\n",
    "Pickling is not limited to single python objects. You can store multiple or nested python objects into a single output file. However, when you are dumping complex information, you should know the order in which you have stored it."
   ]
  },
  {
   "cell_type": "markdown",
   "metadata": {},
   "source": [
    "<strong>Basic Pickle Operations</strong>"
   ]
  },
  {
   "cell_type": "code",
   "execution_count": null,
   "metadata": {},
   "outputs": [],
   "source": [
    "import pickle\n",
    "\n",
    "#Store objects\n",
    "object_name = \"some_object\"\n",
    "filename = open('some_file_name.txt','wb')\n",
    "pickle.dump(object_name,filename)\n",
    "filename.close()\n",
    "\n",
    "#laod objects\n",
    "infile = open('some_file_name.txt','rb')\n",
    "inputFile = pickle.load(infile)\n",
    "infile.close()\n",
    "inputFile"
   ]
  },
  {
   "cell_type": "markdown",
   "metadata": {},
   "source": [
    "<h1>Examples</h1>"
   ]
  },
  {
   "cell_type": "markdown",
   "metadata": {},
   "source": [
    "<strong>Example #1: Saving A Dict</strong>\n",
    "\n",
    "Let's save an employee's information into file using pickle. Run the code below then look in the example folder for the output."
   ]
  },
  {
   "cell_type": "code",
   "execution_count": 16,
   "metadata": {},
   "outputs": [],
   "source": [
    "import pandas as pd\n",
    "import shutil\n",
    "import glob\n",
    "import os\n",
    "import pickle\n",
    "\n",
    "if not 'script_dir' in globals():\n",
    "    script_dir = os.getcwd()\n",
    "    \n",
    "data_directory = 'data\\\\'\n",
    "example_directory = 'PickleExample\\\\'\n",
    "target_file_name = 'employee.txt'\n",
    "\n",
    "target_path = os.path.join(script_dir, data_directory, example_directory, target_file_name)\n",
    "\n",
    "employee = {\"Name\": \"Sam\", \"Age\":25, \"Height\": 177, \"Country\" : \"Brazil\"}\n",
    "\n",
    "filename = open(target_path,'wb')\n",
    "pickle.dump(employee, filename)\n",
    "filename.close()"
   ]
  },
  {
   "cell_type": "code",
   "execution_count": 17,
   "metadata": {},
   "outputs": [
    {
     "name": "stdout",
     "output_type": "stream",
     "text": [
      "{'Name': 'Sam', 'Age': 25, 'Height': 177, 'Country': 'Brazil'}\n"
     ]
    }
   ],
   "source": [
    "#Here is how you will unpickle a saved file.\n",
    "inputFile = open(target_path,'rb')\n",
    "loaded_object = pickle.load(inputFile)\n",
    "inputFile.close()\n",
    "\n",
    "print(loaded_object)"
   ]
  },
  {
   "cell_type": "markdown",
   "metadata": {},
   "source": [
    "<strong>Example #2: Saving A List</strong>\n",
    "\n",
    "Let's save a list into file using pickle."
   ]
  },
  {
   "cell_type": "code",
   "execution_count": 13,
   "metadata": {},
   "outputs": [],
   "source": [
    "grades = [34,53,23,56,67,74,3,33,2,6,7,8,83,34,2,34,64,65]\n",
    "\n",
    "target_file_name = 'grades.txt'\n",
    "target_path = os.path.join(script_dir, data_directory, example_directory, target_file_name)\n",
    "\n",
    "filename = open(target_path,'wb')\n",
    "pickle.dump(grades,filename)\n",
    "filename.close()"
   ]
  },
  {
   "cell_type": "code",
   "execution_count": 15,
   "metadata": {},
   "outputs": [
    {
     "name": "stdout",
     "output_type": "stream",
     "text": [
      "[34, 53, 23, 56, 67, 74, 3, 33, 2, 6, 7, 8, 83, 34, 2, 34, 64, 65]\n"
     ]
    }
   ],
   "source": [
    "#Here is how you will unpickle a saved file.\n",
    "inputFile = open(target_path,'rb')\n",
    "loaded_object = pickle.load(inputFile)\n",
    "inputFile.close()\n",
    "\n",
    "print(loaded_object)"
   ]
  },
  {
   "cell_type": "markdown",
   "metadata": {},
   "source": [
    "Copyright © 2020, Mass Street Analytics, LLC. All Rights Reserved."
   ]
  }
 ],
 "metadata": {
  "kernelspec": {
   "display_name": "Python 3",
   "language": "python",
   "name": "python3"
  },
  "language_info": {
   "codemirror_mode": {
    "name": "ipython",
    "version": 3
   },
   "file_extension": ".py",
   "mimetype": "text/x-python",
   "name": "python",
   "nbconvert_exporter": "python",
   "pygments_lexer": "ipython3",
   "version": "3.8.3"
  }
 },
 "nbformat": 4,
 "nbformat_minor": 4
}
