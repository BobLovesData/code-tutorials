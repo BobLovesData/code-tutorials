{
 "cells": [
  {
   "cell_type": "markdown",
   "metadata": {},
   "source": [
    "<a href=\"https://massstreetuniversity.com/\"><img src=\"https://tutorials.massstreetuniversity.com/images/logo.png\" alt=\"School Logo\"></a><br><br><br>\n",
    "<a href=\"https://tutorials.massstreetuniversity.com/python/\">Tutorial Home</a> | <a href=\"https://tutorials.massstreetuniversity.com/python/advanced/20-basic-file-operations.html\">Previous</a> | <a href=\"https://tutorials.massstreetuniversity.com/python/advanced/22-pandas.html\">Next</a>"
   ]
  },
  {
   "cell_type": "markdown",
   "metadata": {},
   "source": [
    "<h1>Lesson 21. Working With Data In Numpy</h1>"
   ]
  },
  {
   "cell_type": "markdown",
   "metadata": {},
   "source": [
    "To make sense of data, we frequently organize information in lists and perform numerical operations such as add, min, max, average on them. We can do these operations using builtin python lists and loops as discussed in previous tutorials, but why this overhead when we can do most such operations with just one function call using Numpy. Also, Looping through huge arrays (millions of records) for such operations becomes extremely slower without using optimized library as Numpy. Numpy makes it a lot easier for us to make such computations. Using this library, we can write few lines of code complete the analysis we are performing. \n",
    "\n",
    "Numpy also allows us to easily access a portion of data using indexing and perform operations on that portion of data. Perfoming operations on a portion of data, especially when there are multiple lists, becomes cumbersome using builtin python lists. For instance, finding heights of students meeting some conditions like having grade between 50 and 70. "
   ]
  },
  {
   "cell_type": "markdown",
   "metadata": {},
   "source": [
    "<h1>Examples</h1>"
   ]
  },
  {
   "cell_type": "markdown",
   "metadata": {},
   "source": [
    "<strong>Example #1: MOAR Looping!</strong>\n",
    "\n",
    "Let say a class has the following grades where all students failed. The teacher decides to double the grade of each student to pass some. Here is how you would have done it using builtin arrys and loops.You can it do the same using numpy without looping over data yourself. Here is how you can do it with numpy."
   ]
  },
  {
   "cell_type": "code",
   "execution_count": 2,
   "metadata": {},
   "outputs": [
    {
     "name": "stdout",
     "output_type": "stream",
     "text": [
      "[40, 20, 60, 80, 20, 40, 24, 28, 30, 32, 28, 24, 32]\n",
      "[40 20 60 80 20 40 24 28 30 32 28 24 32]\n"
     ]
    }
   ],
   "source": [
    "import numpy as np\n",
    "\n",
    "grades = [20,10,30,40,10,20,12,14,15,16,14,12,16]\n",
    "\n",
    "#old and busted\n",
    "new_grades = []\n",
    "for grade in grades:\n",
    "    new_grades.append(grade*2)\n",
    "print(new_grades)\n",
    "\n",
    "#new hotness\n",
    "grades = np.array(grades)\n",
    "new_grades = grades*2\n",
    "print(new_grades)"
   ]
  },
  {
   "cell_type": "markdown",
   "metadata": {},
   "source": [
    "<strong>Example #2: Descriptive Statistics </strong>\n",
    "\n",
    "Finding min,max,avg and other such numerical information of grades becomes a lot easier. "
   ]
  },
  {
   "cell_type": "code",
   "execution_count": 4,
   "metadata": {},
   "outputs": [
    {
     "name": "stdout",
     "output_type": "stream",
     "text": [
      "Min grade:  10\n",
      "Max grade:  40\n",
      "Avg grade:  17.615384615384617\n"
     ]
    }
   ],
   "source": [
    "min_grade = grades.min()\n",
    "max_grade = grades.max()\n",
    "avg_grade = grades.sum()/len(grades)\n",
    "\n",
    "print(\"Min grade: \",min_grade)\n",
    "print(\"Max grade: \",max_grade)\n",
    "print(\"Avg grade: \",avg_grade)"
   ]
  },
  {
   "cell_type": "markdown",
   "metadata": {},
   "source": [
    "<strong>Example #3: Selecting And Filtering Values</strong>\n",
    "\n",
    "Let's select all students having grades less than 25 and let's find max gradeof students meeting the above condition."
   ]
  },
  {
   "cell_type": "code",
   "execution_count": 6,
   "metadata": {},
   "outputs": [
    {
     "data": {
      "text/plain": [
       "array([20, 10, 10, 20, 12, 14, 15, 16, 14, 12, 16])"
      ]
     },
     "execution_count": 6,
     "metadata": {},
     "output_type": "execute_result"
    }
   ],
   "source": [
    "grades[grades<25]"
   ]
  },
  {
   "cell_type": "code",
   "execution_count": 7,
   "metadata": {},
   "outputs": [
    {
     "data": {
      "text/plain": [
       "20"
      ]
     },
     "execution_count": 7,
     "metadata": {},
     "output_type": "execute_result"
    }
   ],
   "source": [
    "grades[grades<25].max()"
   ]
  },
  {
   "cell_type": "markdown",
   "metadata": {},
   "source": [
    "Copyright © 2020, Mass Street Analytics, LLC. All Rights Reserved."
   ]
  }
 ],
 "metadata": {
  "kernelspec": {
   "display_name": "Python 3",
   "language": "python",
   "name": "python3"
  },
  "language_info": {
   "codemirror_mode": {
    "name": "ipython",
    "version": 3
   },
   "file_extension": ".py",
   "mimetype": "text/x-python",
   "name": "python",
   "nbconvert_exporter": "python",
   "pygments_lexer": "ipython3",
   "version": "3.8.3"
  }
 },
 "nbformat": 4,
 "nbformat_minor": 4
}
