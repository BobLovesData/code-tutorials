{
 "cells": [
  {
   "cell_type": "markdown",
   "metadata": {},
   "source": [
    "<a href=\"https://massstreetuniversity.com/\"><img src=\"https://tutorials.massstreetuniversity.com/images/logo.png\" alt=\"School Logo\"></a><br><br><br>\n",
    "<a href=\"https://tutorials.massstreetuniversity.com/python/\">Tutorial Home</a> | <a href=\"https://tutorials.massstreetuniversity.com/python/advanced/17-map.html\">Previous</a> | <a href=\"https://tutorials.massstreetuniversity.com/python/advanced/19-comprehensions.html\">Next</a>"
   ]
  },
  {
   "cell_type": "markdown",
   "metadata": {},
   "source": [
    "<h1>Lesson 18. Generators</h1>"
   ]
  },
  {
   "cell_type": "markdown",
   "metadata": {},
   "source": [
    "To understand Generator, you should be familiar with Iterator first, because Python Generator is an elegant approach to create an iterator. An Iterator in a nutshell is pointer that points to first element of a collection like list, tuple, or dictionary. Iterator is a class with __iter__() and __next()__ methods. When we pass iterator object to python's next() function, it points to next element in that collection. When end of iterator is reached an StopIteration is raised, letting you know that are are no further elements. You already see the pain in implementation. This is where the saviour Generator comes into play. \n",
    "\n",
    "So, a Generator is a function that that uses yield keyword to create an object that could be iterated using next() function. Generator is just like other python functions, but with yield statment instead of return. The difference here is that when return statement is executed, the function stops execution right away which is not the case with yield statement. It keeps generating values and resumes on successive calls. The Generator remembers all local variables when called by subsequent call.\n",
    "\n",
    "Now, you must be wondering how generators are different from comprehension (Lesson no 19). Well, comprehensions produce the entire list, but generators only give you one element at a time, this is known as lazy operation. Isn't it memory ifficient?\n",
    "\n",
    "There are two different ways you can create generators in python.\n",
    "\n",
    "<ol>\n",
    "<li>Generators can be created like normal functions with only modification of using yield statment instead of return statement. This is the common way of creating generators.</li><br>\n",
    "<li>Generators can be created using comprehension like method using parenthesis instead of square brackets.</li><br>\n",
    "</ol>"
   ]
  },
  {
   "cell_type": "markdown",
   "metadata": {},
   "source": [
    "<h1>Generators Syntax</h1>"
   ]
  },
  {
   "cell_type": "code",
   "execution_count": null,
   "metadata": {},
   "outputs": [],
   "source": [
    "#Function method\n",
    "def some_generator_function(some_argument):\n",
    "    #some expressions\n",
    "    #and yeild statements\n",
    "    yield \"some variable\"\n",
    "    \n",
    "#Expression method\n",
    "generator = (some_function(x) for x in some_collection)"
   ]
  },
  {
   "cell_type": "markdown",
   "metadata": {},
   "source": [
    "<h1>Examples</h1>"
   ]
  },
  {
   "cell_type": "markdown",
   "metadata": {},
   "source": [
    "<strong>Example #1: Function Method</strong>\n",
    "\n",
    "Let's create an iterator using Generator by reversing Some company's revenue in million dollars for one week."
   ]
  },
  {
   "cell_type": "code",
   "execution_count": 1,
   "metadata": {},
   "outputs": [
    {
     "name": "stdout",
     "output_type": "stream",
     "text": [
      "39\n",
      "21\n",
      "18\n",
      "11\n",
      "10\n",
      "4\n",
      "3\n"
     ]
    }
   ],
   "source": [
    "def reverse_revenue_generator(x):\n",
    "    i = len(x)-1\n",
    "    while i>=0:\n",
    "        yield x[i]\n",
    "        i-=1\n",
    "\n",
    "#company's revenue\n",
    "revenue = [3,4,10,11,18,21,39]\n",
    "\n",
    "for rev in reverse_revenue_generator(revenue):\n",
    "    print(rev)"
   ]
  },
  {
   "cell_type": "markdown",
   "metadata": {},
   "source": [
    "<strong>Example #2: Expression Method</strong>\n",
    "\n",
    "Using the expression method."
   ]
  },
  {
   "cell_type": "code",
   "execution_count": 2,
   "metadata": {},
   "outputs": [
    {
     "name": "stdout",
     "output_type": "stream",
     "text": [
      "[1.0, 4.0, 9.0, 10.0]\n",
      "1.0 4.0 9.0 10.0\n"
     ]
    }
   ],
   "source": [
    "# creating a list of numbers\n",
    "some_vals = [1, 16, 81, 100]\n",
    "\n",
    "# take square root of each term\n",
    "list_ = [x**0.5 for x in some_vals]\n",
    "\n",
    "# This can be done using a generator expression\n",
    "# generator expressions are surrounded by parenthesis ()\n",
    "genr = (x**0.5 for x in some_vals)\n",
    "\n",
    "print(list_)\n",
    "print(*genr)"
   ]
  },
  {
   "cell_type": "markdown",
   "metadata": {},
   "source": [
    "Copyright © 2020, Mass Street Analytics, LLC. All Rights Reserved."
   ]
  }
 ],
 "metadata": {
  "kernelspec": {
   "display_name": "Python 3",
   "language": "python",
   "name": "python3"
  },
  "language_info": {
   "codemirror_mode": {
    "name": "ipython",
    "version": 3
   },
   "file_extension": ".py",
   "mimetype": "text/x-python",
   "name": "python",
   "nbconvert_exporter": "python",
   "pygments_lexer": "ipython3",
   "version": "3.8.3"
  }
 },
 "nbformat": 4,
 "nbformat_minor": 4
}
