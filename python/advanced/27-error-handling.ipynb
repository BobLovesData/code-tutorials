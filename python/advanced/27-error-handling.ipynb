{
 "cells": [
  {
   "cell_type": "markdown",
   "metadata": {},
   "source": [
    "<a href=\"https://massstreetuniversity.com/\"><img src=\"https://tutorials.massstreetuniversity.com/images/logo.png\" alt=\"School Logo\"></a><br><br><br>\n",
    "<a href=\"https://tutorials.massstreetuniversity.com/python/\">Tutorial Home</a> | <a href=\"https://tutorials.massstreetuniversity.com/python/advanced/26-saving-objects-with-pickle.html\">Previous</a> | <a href=\"https://tutorials.massstreetuniversity.com/python/advanced/28-bringing-it-all-together.html\">Next</a>"
   ]
  },
  {
   "cell_type": "markdown",
   "metadata": {},
   "source": [
    "<h1>Lesson 27. Error Handling</h1>"
   ]
  },
  {
   "cell_type": "markdown",
   "metadata": {},
   "source": [
    "Practically all of the lessons in this tutorial do not use any error handling. This is for pedagogical reasons. In reality, you need to write your code in a robust way so it can handle errors gracefully. \n",
    "\n",
    "Sources of errors include but are not limited to:\n",
    "\n",
    "<ul>\n",
    "<li>Database servers down</li>\n",
    "<li>Network errors</li>\n",
    "<li>Web servers down</li>\n",
    "<li>Accessing directories and files that do not exist</li>\n",
    "<li>Bad user input</li>\n",
    "<li>That dude from the Allstate commercials</li>\n",
    "<li>Gremlins. Not a joke.</li>\n",
    "</ul>\n",
    "\n",
    "Python, like many languages, implements error handling through the try/catch paradigm."
   ]
  },
  {
   "cell_type": "markdown",
   "metadata": {},
   "source": [
    "<h1>Try Catch Syntax</h1>"
   ]
  },
  {
   "cell_type": "code",
   "execution_count": null,
   "metadata": {},
   "outputs": [],
   "source": [
    "try:\n",
    "    #business logic\n",
    "except Exception as e:\n",
    "    #print exception\n",
    "else:\n",
    "    #logic that runs if there is no error\n",
    "finally:\n",
    "    #any task that needs to execute reguardless of any errors raised."
   ]
  },
  {
   "cell_type": "markdown",
   "metadata": {},
   "source": [
    "<h1>Examples</h1>"
   ]
  },
  {
   "cell_type": "markdown",
   "metadata": {},
   "source": [
    "<strong>Example #1: Basic Error Handling Hello World</strong>\n",
    "\n",
    "Every error handling example starts with a divide by zero error."
   ]
  },
  {
   "cell_type": "code",
   "execution_count": 6,
   "metadata": {},
   "outputs": [
    {
     "name": "stdout",
     "output_type": "stream",
     "text": [
      "division by zero\n",
      "This is going to show anyway.\n"
     ]
    }
   ],
   "source": [
    "numerator = 1\n",
    "denominator = 0\n",
    "\n",
    "try:\n",
    "    numerator/denominator\n",
    "except Exception as e:\n",
    "    print(e)\n",
    "else:\n",
    "    print('Flip the values to see this message.')\n",
    "finally:\n",
    "    print('This is going to show anyway.')"
   ]
  },
  {
   "cell_type": "markdown",
   "metadata": {},
   "source": [
    "<strong>Example #2: Using Built-in Exceptions</strong>\n",
    "\n",
    "You can catch errors by using the Exception class, but if you really want to get fancy, you can catch specific errors. Catching errors this way allows you to develop gentler error messages than the intimidating trace you’d normally get with a bare error.\n",
    "\n",
    "A list of built-in exceptions can be found <a href=\"https://docs.python.org/3/library/exceptions.html\" target=\"_blank\">here</a>."
   ]
  },
  {
   "cell_type": "code",
   "execution_count": 9,
   "metadata": {},
   "outputs": [
    {
     "name": "stdout",
     "output_type": "stream",
     "text": [
      "No file here yo!\n"
     ]
    }
   ],
   "source": [
    "import os\n",
    "import pandas as pd\n",
    "\n",
    "script_dir = os.getcwd()\n",
    "data_directory = 'data\\\\'\n",
    "example_directory = 'BuiltInExceptionExample\\\\'\n",
    "file_name = 'NonExistingFile.txt'\n",
    "abs_file_path = os.path.join(script_dir, data_directory, example_directory, file_name)\n",
    "\n",
    "try:\n",
    "    pd.read_csv(abs_file_path)\n",
    "except FileNotFoundError:\n",
    "    print('No file here yo!')"
   ]
  },
  {
   "cell_type": "markdown",
   "metadata": {},
   "source": [
    "<strong>Example #3: Using Exceptions In Modules</strong>\n",
    "\n",
    "Finally, modules also come with exceptions."
   ]
  },
  {
   "cell_type": "code",
   "execution_count": 23,
   "metadata": {},
   "outputs": [
    {
     "name": "stdout",
     "output_type": "stream",
     "text": [
      "Website does not exist.\n"
     ]
    }
   ],
   "source": [
    "import urllib.request\n",
    "import urllib.error as ue\n",
    "\n",
    "url = 'http://www.bobwakefield.com/'\n",
    "\n",
    "try:\n",
    "    urllib.request.urlopen(url)\n",
    "except ue.URLError:\n",
    "    print('Website does not exist.')"
   ]
  },
  {
   "cell_type": "markdown",
   "metadata": {},
   "source": [
    "Copyright © 2020, Mass Street Analytics, LLC. All Rights Reserved."
   ]
  }
 ],
 "metadata": {
  "kernelspec": {
   "display_name": "Python 3",
   "language": "python",
   "name": "python3"
  },
  "language_info": {
   "codemirror_mode": {
    "name": "ipython",
    "version": 3
   },
   "file_extension": ".py",
   "mimetype": "text/x-python",
   "name": "python",
   "nbconvert_exporter": "python",
   "pygments_lexer": "ipython3",
   "version": "3.8.3"
  }
 },
 "nbformat": 4,
 "nbformat_minor": 4
}
