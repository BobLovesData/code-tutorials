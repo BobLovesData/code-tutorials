{
 "cells": [
  {
   "cell_type": "markdown",
   "metadata": {},
   "source": [
    "<a href=\"https://massstreetuniversity.com/\"><img src=\"https://tutorials.massstreetuniversity.com/images/logo.png\" alt=\"School Logo\"></a><br><br><br>\n",
    "<a href=\"http://tutorials.massstreetuniversity.com/python/\">Tutorial Home</a>"
   ]
  },
  {
   "cell_type": "markdown",
   "metadata": {},
   "source": [
    "<h1>Working With SFTP In The Real World</h1>"
   ]
  },
  {
   "cell_type": "markdown",
   "metadata": {},
   "source": [
    "In order to make the magic happen here, you need something called a host key. When you connected with your FTP tool, you got the host key and it is probably stored in the application’s cache. \n",
    "Without getting into deep specifics about what the host key does, the host key is the thing that enables a secure connection between your machine and the secured remote box.\n",
    "We need to create a file on our machine with the key so the SFTP protocol knows that it is dealing with a secure connection with a known host. As such, we are going to name that file known_host. In the example folder for this lesson, create a text file called known_host. \n",
    "Find out how to get the host key from your FTP application. The key looks like ssh-ed123456 followed by a series of alpha numeric values separated by a semicolon. \n",
    "If you are using WinSCP you can go to Session > Server/protocol Information, then copy it to the clipboard. Paste the key inside your known_host file. It only needs to be the key. WinSCP will paste a lot of other information. All that extra stuff needs to go.\n",
    "The entry in the file needs to look like the following:\n",
    "test.rebex.net ssh-ed25519….\n"
   ]
  },
  {
   "cell_type": "markdown",
   "metadata": {},
   "source": [
    "Connect to the rebex server with WinSCP.\n",
    "When you get the dialogue about caching the host key, hit yes.\n",
    "Goto -> Session -> Server and Protocol information.\n",
    "If the directory doesn't already exist, under whatever user you log in on create a folder called .ssh.\n",
    "Ex: C:\\Users\\[your user name]\\.ssh\n",
    "\n",
    "Now open a command prompt and cd into that folder and then run the following command:\n",
    "ssh-keyscan test.rebex.net > known_host\n",
    "\n",
    "Now, you can calculate the public key with ssh-keygen like so:\n",
    "ssh-keygen -l -f known_host -E md5\n",
    "\n",
    "7. Now go back to WinSCP and look at the MD5 hash of the server finger print and compare it to the output of your ssh-keygen command? Does it match? Congrats. You have a secure host key! Now we need to update our code from Task #1: Moving Files With HTTP And SFTP so we won't be venerable to man in the middle attacks! We do that by altering the following lines of code.\n",
    "\n",
    "8. Now run your code again and BAMF! Secure connection with no login!"
   ]
  },
  {
   "cell_type": "markdown",
   "metadata": {},
   "source": [
    "<h1>Examples</h1>"
   ]
  },
  {
   "cell_type": "markdown",
   "metadata": {},
   "source": [
    "<strong>Example #1: Actually secure file downloads with SFTP</strong>\n",
    "\n",
    "We're going to close that security hole by making sure we have secure connection with a known host file."
   ]
  },
  {
   "cell_type": "code",
   "execution_count": 3,
   "metadata": {},
   "outputs": [],
   "source": [
    "import urllib\n",
    "import os\n",
    "import pysftp\n",
    "\n",
    "if not 'script_dir' in globals():\n",
    "    script_dir = os.getcwd()\n",
    "data_directory = 'data\\\\'\n",
    "example_directory = 'HTTPAndFTPExample\\\\'\n",
    "file_name = 'readme.txt'\n",
    "known_host = 'known_host'\n",
    "\n",
    "host = 'test.rebex.net'\n",
    "username = 'demo'\n",
    "password = 'password'\n",
    "\n",
    "target_path = os.path.join(script_dir,data_directory,example_directory,file_name)\n",
    "known_host_path = os.path.join(script_dir,data_directory,example_directory,known_host)\n",
    "\n",
    "cnopts = pysftp.CnOpts()\n",
    "cnopts.hostkeys.load(known_host_path)\n",
    "\n",
    "with pysftp.Connection(host = host, username = username, password = password, cnopts=cnopts) as sftp:\n",
    "        sftp.get(file_name, target_path)"
   ]
  },
  {
   "cell_type": "markdown",
   "metadata": {},
   "source": [
    "Copyright © 2020, Mass Street Analytics, LLC. All Rights Reserved."
   ]
  }
 ],
 "metadata": {
  "kernelspec": {
   "display_name": "Python 3",
   "language": "python",
   "name": "python3"
  },
  "language_info": {
   "codemirror_mode": {
    "name": "ipython",
    "version": 3
   },
   "file_extension": ".py",
   "mimetype": "text/x-python",
   "name": "python",
   "nbconvert_exporter": "python",
   "pygments_lexer": "ipython3",
   "version": "3.8.3"
  }
 },
 "nbformat": 4,
 "nbformat_minor": 4
}
