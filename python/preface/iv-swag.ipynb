{
 "cells": [
  {
   "cell_type": "markdown",
   "metadata": {},
   "source": [
    "<a href=\"https://msds.massstreet.net/\"><img src=\"https://learn.massstreet.net/images/logo.png\" alt=\"School Logo\"></a><br><br><br>\n",
    "<a href=\"https://learn.massstreet.net/python/\">Tutorial Home</a> | <a href=\"https://learn.massstreet.net/python/preface/iii-what-is-the-checklist.html\">Previous</a> | <a href=\"https://learn.massstreet.net/python/preflight/v-anconda.html\">Next</a>"
   ]
  },
  {
   "cell_type": "markdown",
   "metadata": {},
   "source": [
    "<h1>Section IV. Supplimentery Material</h1>"
   ]
  },
  {
   "cell_type": "markdown",
   "metadata": {},
   "source": [
    "Here are some other resources you can use to learn the material in this tutorial."
   ]
  },
  {
   "cell_type": "markdown",
   "metadata": {},
   "source": [
    "<strong>Free Seminars</strong>\n",
    "\n",
    "The free seminar Survival Python pairs well with this tutorial. It is a three-hour commitment. If you take the seminar, you can skip the basics section of this tutorial. Click the image to learn more."
   ]
  },
  {
   "cell_type": "markdown",
   "metadata": {},
   "source": [
    "<strong>Blog Post</strong>\n",
    "\n",
    "Below are some blog posts that will be relevant in this tutorial and later.\n",
    "\n",
    "<a href=\"https://datadrivenperspectives.com/the-job-market-for-medium-data-skills-cd4aeca21718\">The Job Market for Medium Data® Skills</a>\n",
    "\n",
    "<a href=\"https://docs.massstreet.net/v/data-as-a-competitive-necessity/\">Data as a Competitive Necessity</a>\n",
    "\n",
    "<a href=\"https://datadrivenperspectives.com/the-benefits-of-using-python-and-t-sql-over-ssis-for-etl-ca50c6e11819\">The Benefits Of Using Python And T-SQL Over SSIS For ETL</a>\n",
    "\n",
    "<a href=\"https://docs.massstreet.net/v/why-do-you-need-an-etl-framework/\">Why Do You Need An ETL Framework?</a>"
   ]
  },
  {
   "cell_type": "markdown",
   "metadata": {},
   "source": [
    "Copyright © 2020, Mass Street Analytics, LLC. All Rights Reserved."
   ]
  }
 ],
 "metadata": {
  "kernelspec": {
   "display_name": "Python 3",
   "language": "python",
   "name": "python3"
  },
  "language_info": {
   "codemirror_mode": {
    "name": "ipython",
    "version": 3
   },
   "file_extension": ".py",
   "mimetype": "text/x-python",
   "name": "python",
   "nbconvert_exporter": "python",
   "pygments_lexer": "ipython3",
   "version": "3.8.3"
  }
 },
 "nbformat": 4,
 "nbformat_minor": 4
}
